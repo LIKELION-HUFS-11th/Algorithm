{
 "cells": [
  {
   "cell_type": "code",
   "execution_count": 14,
   "metadata": {},
   "outputs": [],
   "source": [
    "nTotal_nums = int(input())\n",
    "nTotal = list(map(int, input().split()))\n",
    "nSang_nums = int(input())\n",
    "nSang = list(map(int, input().split()))"
   ]
  },
  {
   "cell_type": "code",
   "execution_count": 34,
   "metadata": {},
   "outputs": [
    {
     "name": "stdout",
     "output_type": "stream",
     "text": [
      "[3, 0, 0, 1, 2, 0, 0, 2]\n"
     ]
    }
   ],
   "source": [
    "# #기준점은 nSang의 각 요소들\n",
    "# cnt = 0\n",
    "\n",
    "# nTleft = 0 #주어진 수들의 투포인트\n",
    "# nTright = nTotal_nums-1 \n",
    "\n",
    "# nSleft = 0 #상근이 배열의 투포인트\n",
    "# nSright = nSang_nums-1\n",
    "\n",
    "# nAns = [0]* nSang_nums #정답 담을 배열\n",
    "\n",
    "def count_match(nSang, nTotal, nSstart, nTleft, nTright, nAns):\n",
    "    if nSstart == len(nAns):\n",
    "        return nAns\n",
    "    else:\n",
    "        nTleft = 0\n",
    "        nTright = len(nTotal) - 1\n",
    "        while nTleft < nTright:\n",
    "\n",
    "            if nSang[nSstart] == nTotal[nTleft]:\n",
    "                nAns[nSstart] += 1\n",
    "                nTleft += 1\n",
    "            else:\n",
    "                nTleft += 1\n",
    "\n",
    "            if nSang[nSstart] == nTotal[nTright]:\n",
    "                nAns[nSstart] += 1\n",
    "                nTright -= 1\n",
    "            else:\n",
    "                nTright -= 1\n",
    "        return count_match(nSang, nTotal, nSstart+1, nTleft, nTright, nAns)\n",
    "\n",
    "\n",
    "nTleft = 0\n",
    "nTright = nTotal_nums - 1\n",
    "nSstart = 0\n",
    "\n",
    "nAns = [0] * nSang_nums\n",
    "\n",
    "result = count_match(nSang, nTotal, nSstart, nTleft, nTright, nAns)\n",
    "print(result)\n"
   ]
  },
  {
   "cell_type": "code",
   "execution_count": 22,
   "metadata": {},
   "outputs": [
    {
     "name": "stdout",
     "output_type": "stream",
     "text": [
      "[1, 0, 0, 0, 0, 0, 0, 0]\n"
     ]
    }
   ],
   "source": [
    "\n",
    "nAns[0]+=1\n",
    "print(nAns)"
   ]
  },
  {
   "cell_type": "code",
   "execution_count": 35,
   "metadata": {},
   "outputs": [
    {
     "name": "stdout",
     "output_type": "stream",
     "text": [
      "[1, 0, 0, 0, 1, 0, 0, 0]\n"
     ]
    }
   ],
   "source": [
    "def count_match(nSang, nTotal):\n",
    "    nAns = [0] * len(nSang)\n",
    "    \n",
    "    for i, value in enumerate(nSang):\n",
    "        nTleft, nTright = 0, len(nTotal) - 1\n",
    "        \n",
    "        while nTleft <= nTright:\n",
    "            mid = (nTleft + nTright) // 2\n",
    "\n",
    "            if nTotal[mid] == value:\n",
    "                nAns[i] += 1\n",
    "                break\n",
    "            elif nTotal[mid] < value:\n",
    "                nTleft = mid + 1\n",
    "            else:\n",
    "                nTright = mid - 1\n",
    "\n",
    "    return nAns\n",
    "\n",
    "# nTotal_nums = int(input())\n",
    "# nTotal = list(map(int, input().split()))\n",
    "# nSang_nums = int(input())\n",
    "# nSang = list(map(int, input().split()))\n",
    "\n",
    "result = count_match(nSang, nTotal)\n",
    "print(result)\n"
   ]
  },
  {
   "cell_type": "code",
   "execution_count": 42,
   "metadata": {},
   "outputs": [
    {
     "name": "stdout",
     "output_type": "stream",
     "text": [
      "[3, 0, 0, 1, 2, 0, 0, 2] "
     ]
    }
   ],
   "source": [
    "nTotal_nums = int(input())\n",
    "nTotal = list(map(int, input().split()))\n",
    "nSang_nums = int(input())\n",
    "nSang = list(map(int, input().split()))\n",
    "\n",
    "def count_match(nSang, nTotal):\n",
    "    nAns = [0] * len(nSang)\n",
    "    \n",
    "    nTotal_dict = {}  # 각 값이 몇 번 나타나는지 저장\n",
    "\n",
    "    # nTotal 의 각 요소들이, 딕셔너리의 key로 들어감. value에다가 한개라도 있으면 1 저장.\n",
    "    #동일한 키값이면 거기다 1 또 더하는 것임\n",
    "    for value in nTotal:\n",
    "        nTotal_dict[value] = nTotal_dict.get(value, 0) + 1\n",
    "    # print(nTotal_dict)\n",
    "    # nSang 배열 기준으로, 각 값에 대해 딕셔너리에서 값을 찾아 nAns 업데이트\n",
    "    for i, value in enumerate(nSang):\n",
    "        nAns[i] = nTotal_dict.get(value, 0)\n",
    "\n",
    "    return nAns\n",
    "\n",
    "result = count_match(nSang, nTotal)\n",
    "print(result, end = ' ')"
   ]
  },
  {
   "cell_type": "code",
   "execution_count": null,
   "metadata": {},
   "outputs": [],
   "source": []
  }
 ],
 "metadata": {
  "kernelspec": {
   "display_name": "base",
   "language": "python",
   "name": "python3"
  },
  "language_info": {
   "codemirror_mode": {
    "name": "ipython",
    "version": 3
   },
   "file_extension": ".py",
   "mimetype": "text/x-python",
   "name": "python",
   "nbconvert_exporter": "python",
   "pygments_lexer": "ipython3",
   "version": "3.11.5"
  }
 },
 "nbformat": 4,
 "nbformat_minor": 2
}
