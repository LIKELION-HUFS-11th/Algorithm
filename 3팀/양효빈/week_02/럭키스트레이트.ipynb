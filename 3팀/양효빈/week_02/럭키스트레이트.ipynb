{
 "cells": [
  {
   "cell_type": "code",
   "execution_count": 24,
   "id": "f24e06cf-377e-487a-8fa8-8e8aad1c9454",
   "metadata": {},
   "outputs": [
    {
     "name": "stdin",
     "output_type": "stream",
     "text": [
      " 7755\n"
     ]
    },
    {
     "name": "stdout",
     "output_type": "stream",
     "text": [
      "READY\n"
     ]
    }
   ],
   "source": [
    "N = int(input())\n",
    "cnt = len(str(N))\n",
    "string = str(N)\n",
    "\n",
    "front, back = 0, 0\n",
    "for i in range(0, int(cnt/2)):\n",
    "    front += int(string[i])\n",
    "    back += int(string[cnt-i-1])\n",
    "\n",
    "if front == back:\n",
    "    print(\"LUCKY\")\n",
    "else: print(\"READY\")"
   ]
  },
  {
   "cell_type": "code",
   "execution_count": null,
   "id": "e4b00436-5334-4155-ace8-404466cca776",
   "metadata": {},
   "outputs": [],
   "source": []
  },
  {
   "cell_type": "code",
   "execution_count": null,
   "id": "2bb4a51c-c090-4cca-bb4d-eef7bdfc743a",
   "metadata": {},
   "outputs": [],
   "source": []
  },
  {
   "cell_type": "code",
   "execution_count": null,
   "id": "9a756abd-fd3e-4577-baca-7791c5127361",
   "metadata": {},
   "outputs": [],
   "source": []
  },
  {
   "cell_type": "code",
   "execution_count": null,
   "id": "8600a0bf-0bf5-4854-a3b1-2052c1f69e5a",
   "metadata": {},
   "outputs": [],
   "source": []
  },
  {
   "cell_type": "code",
   "execution_count": null,
   "id": "69cfb291-43fa-4fc1-ae4b-1a6a420f0de9",
   "metadata": {},
   "outputs": [],
   "source": []
  },
  {
   "cell_type": "code",
   "execution_count": null,
   "id": "82bfb139-677f-4cf0-8b1e-78a81b2760fe",
   "metadata": {},
   "outputs": [],
   "source": []
  },
  {
   "cell_type": "code",
   "execution_count": null,
   "id": "77db893c-7ecc-4325-92db-315f0ea3a9b8",
   "metadata": {},
   "outputs": [],
   "source": []
  },
  {
   "cell_type": "code",
   "execution_count": null,
   "id": "f9084af9-82b7-4cbd-8652-7e09ea576c87",
   "metadata": {},
   "outputs": [],
   "source": []
  }
 ],
 "metadata": {
  "kernelspec": {
   "display_name": "Python 3 (ipykernel)",
   "language": "python",
   "name": "python3"
  },
  "language_info": {
   "codemirror_mode": {
    "name": "ipython",
    "version": 3
   },
   "file_extension": ".py",
   "mimetype": "text/x-python",
   "name": "python",
   "nbconvert_exporter": "python",
   "pygments_lexer": "ipython3",
   "version": "3.9.7"
  }
 },
 "nbformat": 4,
 "nbformat_minor": 5
}
