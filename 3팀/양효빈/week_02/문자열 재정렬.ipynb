{
 "cells": [
  {
   "cell_type": "code",
   "execution_count": 4,
   "id": "37552997-bf6b-45fa-964e-ceac2828cac8",
   "metadata": {},
   "outputs": [
    {
     "name": "stdin",
     "output_type": "stream",
     "text": [
      " AJKDLSI412K4JSJ9D\n"
     ]
    },
    {
     "name": "stdout",
     "output_type": "stream",
     "text": [
      "ADDIJJJKKLSS20\n"
     ]
    }
   ],
   "source": [
    "S = input()\n",
    "num = \"0123456789\"\n",
    "str_arr = []\n",
    "num_arr = []\n",
    "\n",
    "for s in S:\n",
    "    if s in num:\n",
    "        s = int(s)\n",
    "        num_arr.append(s)\n",
    "    else:\n",
    "        str_arr.append(s)\n",
    "        \n",
    "str_arr.sort()\n",
    "num_res = sum(num_arr)\n",
    "\n",
    "result = ''.join(str_arr)\n",
    "result += str(num_res)\n",
    "\n",
    "print(result)"
   ]
  },
  {
   "cell_type": "code",
   "execution_count": null,
   "id": "75f2c524-eb77-49d6-98fa-72326fc1a22e",
   "metadata": {},
   "outputs": [],
   "source": []
  },
  {
   "cell_type": "code",
   "execution_count": null,
   "id": "b83833cf-2b5e-4bfe-a1ff-e97e6076b8d9",
   "metadata": {},
   "outputs": [],
   "source": []
  },
  {
   "cell_type": "code",
   "execution_count": null,
   "id": "3be512c8-1369-4528-8bf9-05c27c1e7a3c",
   "metadata": {},
   "outputs": [],
   "source": []
  },
  {
   "cell_type": "code",
   "execution_count": null,
   "id": "fc93de60-6af4-4778-ac52-e095ce8d4977",
   "metadata": {},
   "outputs": [],
   "source": []
  },
  {
   "cell_type": "code",
   "execution_count": null,
   "id": "79d102d8-cf98-44ac-b3ba-4ec260f4093a",
   "metadata": {},
   "outputs": [],
   "source": []
  },
  {
   "cell_type": "code",
   "execution_count": null,
   "id": "9cb89088-16c2-46bf-a81b-7a6608ad61b6",
   "metadata": {},
   "outputs": [],
   "source": []
  },
  {
   "cell_type": "code",
   "execution_count": null,
   "id": "e2897be5-33e4-4c8a-9089-cdb3ebc32110",
   "metadata": {},
   "outputs": [],
   "source": []
  }
 ],
 "metadata": {
  "kernelspec": {
   "display_name": "Python 3 (ipykernel)",
   "language": "python",
   "name": "python3"
  },
  "language_info": {
   "codemirror_mode": {
    "name": "ipython",
    "version": 3
   },
   "file_extension": ".py",
   "mimetype": "text/x-python",
   "name": "python",
   "nbconvert_exporter": "python",
   "pygments_lexer": "ipython3",
   "version": "3.9.7"
  }
 },
 "nbformat": 4,
 "nbformat_minor": 5
}
