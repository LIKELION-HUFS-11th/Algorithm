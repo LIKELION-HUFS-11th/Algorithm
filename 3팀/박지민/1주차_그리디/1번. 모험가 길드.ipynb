{
 "cells": [
  {
   "cell_type": "code",
   "execution_count": 4,
   "id": "e1b38d62",
   "metadata": {},
   "outputs": [
    {
     "name": "stdout",
     "output_type": "stream",
     "text": [
      "5\n",
      "2 2 3 2 1\n",
      "2\n"
     ]
    }
   ],
   "source": [
    "n = int(input())\n",
    "#공포도\n",
    "k = list(map(int, input().split()))\n",
    "\n",
    "k.sort()\n",
    "\n",
    "result = 0 #총 그룹 수\n",
    "count = 0 #현재 그룹에 포함된 모험가의 수\n",
    "\n",
    "for i in k : #공포도를 낮은 것부터 확인하며\n",
    "    count += 1 #현재 그룹에 해당 모험가를 포함시키기\n",
    "    if count >= i: #현재 그룹에 포함된 모험가의 수 >= 현재 공포도 -> 그룹 생성\n",
    "        result +=1\n",
    "        count =0 #현재 그룹에 포함된 모험가의 수 초기화\n",
    "        \n",
    "print(result)"
   ]
  },
  {
   "cell_type": "code",
   "execution_count": null,
   "id": "aece42ec",
   "metadata": {},
   "outputs": [],
   "source": []
  },
  {
   "cell_type": "code",
   "execution_count": null,
   "id": "3ae63d17",
   "metadata": {},
   "outputs": [],
   "source": []
  }
 ],
 "metadata": {
  "kernelspec": {
   "display_name": "Python 3 (ipykernel)",
   "language": "python",
   "name": "python3"
  },
  "language_info": {
   "codemirror_mode": {
    "name": "ipython",
    "version": 3
   },
   "file_extension": ".py",
   "mimetype": "text/x-python",
   "name": "python",
   "nbconvert_exporter": "python",
   "pygments_lexer": "ipython3",
   "version": "3.9.7"
  }
 },
 "nbformat": 4,
 "nbformat_minor": 5
}
