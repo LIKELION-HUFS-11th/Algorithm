{
 "cells": [
  {
   "cell_type": "code",
   "execution_count": null,
   "id": "5c35966e",
   "metadata": {},
   "outputs": [],
   "source": [
    "n, m = map(int, input().split()) \n",
    "k = list(map(int, input().split()))\n",
    "\n",
    "result = 0\n",
    "for i in k:\n",
    "    for j in range(i+1,n):\n",
    "        if k[i] != k[j]:\n",
    "            result +=1\n",
    "\n",
    "print(result)"
   ]
  },
  {
   "cell_type": "code",
   "execution_count": null,
   "id": "135d4751",
   "metadata": {},
   "outputs": [],
   "source": []
  }
 ],
 "metadata": {
  "kernelspec": {
   "display_name": "Python 3 (ipykernel)",
   "language": "python",
   "name": "python3"
  },
  "language_info": {
   "codemirror_mode": {
    "name": "ipython",
    "version": 3
   },
   "file_extension": ".py",
   "mimetype": "text/x-python",
   "name": "python",
   "nbconvert_exporter": "python",
   "pygments_lexer": "ipython3",
   "version": "3.9.7"
  }
 },
 "nbformat": 4,
 "nbformat_minor": 5
}
