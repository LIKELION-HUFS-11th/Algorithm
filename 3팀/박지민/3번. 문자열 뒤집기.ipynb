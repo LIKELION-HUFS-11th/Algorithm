{
 "cells": [
  {
   "cell_type": "code",
   "execution_count": 2,
   "id": "671cab66",
   "metadata": {},
   "outputs": [
    {
     "ename": "SyntaxError",
     "evalue": "invalid syntax (Temp/ipykernel_17912/287922969.py, line 9)",
     "output_type": "error",
     "traceback": [
      "\u001b[1;36m  File \u001b[1;32m\"C:\\Users\\82103\\AppData\\Local\\Temp/ipykernel_17912/287922969.py\"\u001b[1;36m, line \u001b[1;32m9\u001b[0m\n\u001b[1;33m    else:\u001b[0m\n\u001b[1;37m    ^\u001b[0m\n\u001b[1;31mSyntaxError\u001b[0m\u001b[1;31m:\u001b[0m invalid syntax\n"
     ]
    }
   ],
   "source": [
    "s = input()\n",
    "\n",
    "count0 = 0 #0이 연속된 부분\n",
    "count1 = 0 #1이 연속된 부분\n",
    "\n",
    "#첫 번째 원소 처리(연속된 부분으로 추가)\n",
    "if s[0] == '1':\n",
    "    count0 += 1\n",
    "    else:\n",
    "        count1 += 1\n",
    "\n",
    "#두 번째 원소부터 하나씩 확인 (연속된 게 다른 걸로 바뀔 때, 연속된 부분의 개수 추가)\n",
    "for i in range(len(s)-1):\n",
    "    if s[i] != s[i+1]: #연속된 게 다음 수에서 바뀌는 경우\n",
    "        #다음 수에서 1로 바뀌는 경우\n",
    "        if s[i+1] == '1':\n",
    "            count0 = += 1\n",
    "            else: #다음 수에서 0으로 바뀌는 경우\n",
    "                count1 += 1\n",
    "\n",
    "print(min(count0, count1))\n"
   ]
  },
  {
   "cell_type": "code",
   "execution_count": null,
   "id": "039c7994",
   "metadata": {},
   "outputs": [],
   "source": []
  }
 ],
 "metadata": {
  "kernelspec": {
   "display_name": "Python 3 (ipykernel)",
   "language": "python",
   "name": "python3"
  },
  "language_info": {
   "codemirror_mode": {
    "name": "ipython",
    "version": 3
   },
   "file_extension": ".py",
   "mimetype": "text/x-python",
   "name": "python",
   "nbconvert_exporter": "python",
   "pygments_lexer": "ipython3",
   "version": "3.9.7"
  }
 },
 "nbformat": 4,
 "nbformat_minor": 5
}
