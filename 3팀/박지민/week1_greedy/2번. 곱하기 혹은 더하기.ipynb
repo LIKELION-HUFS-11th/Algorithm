{
 "cells": [
  {
   "cell_type": "code",
   "execution_count": 7,
   "id": "a4053a18",
   "metadata": {},
   "outputs": [
    {
     "name": "stdout",
     "output_type": "stream",
     "text": [
      "02984\n",
      "576\n"
     ]
    }
   ],
   "source": [
    "#2번\n",
    "S = input()\n",
    "result = int( S[0] ) \n",
    "\n",
    "for i in range (1, len(S)):\n",
    "    num = int(S[i])\n",
    "    if num <= 1 or result <= 1:\n",
    "        result += num\n",
    "    else: \n",
    "        result *= num\n",
    "\n",
    "print(result)"
   ]
  }
 ],
 "metadata": {
  "kernelspec": {
   "display_name": "Python 3 (ipykernel)",
   "language": "python",
   "name": "python3"
  },
  "language_info": {
   "codemirror_mode": {
    "name": "ipython",
    "version": 3
   },
   "file_extension": ".py",
   "mimetype": "text/x-python",
   "name": "python",
   "nbconvert_exporter": "python",
   "pygments_lexer": "ipython3",
   "version": "3.9.7"
  }
 },
 "nbformat": 4,
 "nbformat_minor": 5
}
